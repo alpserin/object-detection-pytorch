{
  "cells": [
    {
      "cell_type": "markdown",
      "metadata": {
        "id": "view-in-github",
        "colab_type": "text"
      },
      "source": [
        "<a href=\"https://colab.research.google.com/github/alpserin/object-detection-pytorch/blob/main/object-detection.ipynb\" target=\"_parent\"><img src=\"https://colab.research.google.com/assets/colab-badge.svg\" alt=\"Open In Colab\"/></a>"
      ]
    },
    {
      "cell_type": "code",
      "execution_count": null,
      "metadata": {
        "id": "H90fxQOxSxbc"
      },
      "outputs": [],
      "source": [
        "from torch.utils.data import Dataset, DataLoader\n",
        "from torchvision import datasets\n",
        "import torch \n",
        "import torch.nn as nn\n",
        "import torchvision.transforms as transforms\n",
        "from matplotlib.pyplot import imshow\n",
        "import matplotlib.pylab as plt\n",
        "import os\n",
        "import random"
      ]
    },
    {
      "cell_type": "code",
      "execution_count": null,
      "metadata": {
        "id": "bWHWN1VbTjR_"
      },
      "outputs": [],
      "source": [
        "# Data from Alp's Drive\n",
        "from google.colab import drive\n",
        "import os \n",
        "drive.mount('/content/gdrive/')"
      ]
    },
    {
      "cell_type": "code",
      "execution_count": null,
      "metadata": {
        "id": "rahjanhgXcbU",
        "colab": {
          "base_uri": "https://localhost:8080/"
        },
        "outputId": "9f289b62-3bee-4318-e65c-1b5b413a4177"
      },
      "outputs": [
        {
          "output_type": "stream",
          "name": "stdout",
          "text": [
            "Mounted at /content/gdrive\n"
          ]
        }
      ],
      "source": [
        "#data from Boris' Gdrive\n",
        "from google.colab import drive\n",
        "import os\n",
        "drive.mount('/content/gdrive')\n",
        "#!unzip gdrive/MyDrive/data/Dotcreate/DatasetNew.zip -d /content/data_dir/"
      ]
    },
    {
      "cell_type": "code",
      "source": [
        "IMAGE_SIZE = 64\n",
        "DATA_DIR = '/content/gdrive/MyDrive/data/Dotcreate/Dataset5000'\n",
        "#DATA_DIR = '/content/gdrive/MyDrive/Dataset5000'\n",
        "labels = [\"10\",\"100\",\"150\",\"20\",\"200\",\"30\",\"40\",\"5\",\"50\",\"75\"]\n"
      ],
      "metadata": {
        "id": "Mflp-DTd5q_0"
      },
      "execution_count": null,
      "outputs": []
    },
    {
      "cell_type": "code",
      "source": [
        "#Normalization values for the whole dataset (Don't run unless needed)\n",
        "\n",
        "#Load the whole dataset\n",
        "norm_transform = transforms.Compose([\n",
        "    transforms.Resize((IMAGE_SIZE, IMAGE_SIZE)),\n",
        "    transforms.ToTensor()\n",
        "    ])\n",
        "\n",
        "norm_imgload = datasets.ImageFolder(DATA_DIR, transform = norm_transform)\n",
        "norm_dataload = torch.utils.data.DataLoader(dataset=norm_imgload, \n",
        "                                            batch_size=len(norm_imgload),\n",
        "                                            shuffle = False, \n",
        "                                            num_workers = 0\n",
        "                                            )\n",
        "\n",
        "\n",
        "#Normal values find function\n",
        "def normvals(dataloader):\n",
        "  images, lbl = next(iter(dataloader))\n",
        "  mean, std = images.mean([0,2,3]), images.std([0,2,3])\n",
        "  return mean, std\n",
        "\n",
        "mean, std = normvals(norm_dataload)\n",
        "print(mean, std)\n",
        "#OUTPUT for dotcreate5000= tensor([0.7925, 0.7549, 0.7549]) tensor([0.3892, 0.3943, 0.3943])"
      ],
      "metadata": {
        "id": "B8Lay9pg5VxN"
      },
      "execution_count": null,
      "outputs": []
    },
    {
      "cell_type": "code",
      "source": [
        "mean, std = [0.7925, 0.7549, 0.7549], [0.3892, 0.3943, 0.3943]"
      ],
      "metadata": {
        "id": "5ilJcJHADsI7"
      },
      "execution_count": null,
      "outputs": []
    },
    {
      "cell_type": "code",
      "execution_count": null,
      "metadata": {
        "id": "TOVufHbQqRPk",
        "colab": {
          "base_uri": "https://localhost:8080/"
        },
        "outputId": "1639b713-63bc-4fec-a20c-13d6f8d9df09"
      },
      "outputs": [
        {
          "output_type": "stream",
          "name": "stdout",
          "text": [
            "(tensor([[[-2.0362, -2.0362, -2.0362,  ..., -2.0362, -2.0362, -2.0362],\n",
            "         [-2.0362, -2.0362, -2.0362,  ..., -2.0362, -2.0362, -2.0362],\n",
            "         [-2.0362, -2.0362, -2.0362,  ..., -2.0362, -2.0362, -2.0362],\n",
            "         ...,\n",
            "         [-2.0362, -2.0362, -2.0362,  ..., -2.0362, -2.0362, -2.0362],\n",
            "         [-2.0362, -2.0362, -2.0362,  ..., -2.0362, -2.0362, -2.0362],\n",
            "         [-2.0362, -2.0362, -2.0362,  ..., -2.0362, -2.0362, -2.0362]],\n",
            "\n",
            "        [[-1.9145, -1.9145, -1.9145,  ..., -1.9145, -1.9145, -1.9145],\n",
            "         [-1.9145, -1.9145, -1.9145,  ..., -1.9145, -1.9145, -1.9145],\n",
            "         [-1.9145, -1.9145, -1.9145,  ..., -1.9145, -1.9145, -1.9145],\n",
            "         ...,\n",
            "         [-1.9145, -1.9145, -1.9145,  ..., -1.9145, -1.9145, -1.9145],\n",
            "         [-1.9145, -1.9145, -1.9145,  ..., -1.9145, -1.9145, -1.9145],\n",
            "         [-1.9145, -1.9145, -1.9145,  ..., -1.9145, -1.9145, -1.9145]],\n",
            "\n",
            "        [[-1.9145, -1.9145, -1.9145,  ..., -1.9145, -1.9145, -1.9145],\n",
            "         [-1.9145, -1.9145, -1.9145,  ..., -1.9145, -1.9145, -1.9145],\n",
            "         [-1.9145, -1.9145, -1.9145,  ..., -1.9145, -1.9145, -1.9145],\n",
            "         ...,\n",
            "         [-1.9145, -1.9145, -1.9145,  ..., -1.9145, -1.9145, -1.9145],\n",
            "         [-1.9145, -1.9145, -1.9145,  ..., -1.9145, -1.9145, -1.9145],\n",
            "         [-1.9145, -1.9145, -1.9145,  ..., -1.9145, -1.9145, -1.9145]]]), 9)\n"
          ]
        }
      ],
      "source": [
        "\n",
        "#Transforms\n",
        "train_transform = transforms.Compose([\n",
        "                                  transforms.RandomRotation(degrees = 30),\n",
        "                                  transforms.RandomHorizontalFlip( p= 0.2 ),\n",
        "                                  transforms.RandomVerticalFlip( p= 0.2 ),\n",
        "                                  transforms.Resize((IMAGE_SIZE, IMAGE_SIZE)),\n",
        "                                  #transforms.RandomResizedCrop(size = IMAGE_SIZE),\n",
        "                                  #transforms.Grayscale(),\n",
        "                                  transforms.ColorJitter(brightness = 0.2,\n",
        "                                                         contrast = 0.2,\n",
        "                                                         saturation = 0.2,\n",
        "                                                         hue = 0.2 \n",
        "                                                         ),\n",
        "                                  transforms.ToTensor(),\n",
        "                                  transforms.Normalize(mean, std)\n",
        "                                  ])\n",
        "\n",
        "val_transform = transforms.Compose([\n",
        "                                  transforms.Resize((IMAGE_SIZE, IMAGE_SIZE)),\n",
        "                                  transforms.ToTensor(),\n",
        "                                  transforms.Normalize(mean, std)\n",
        "                                  ])\n",
        "\n",
        "#Loading the custom dataset\n",
        "dataset_train = datasets.ImageFolder(DATA_DIR, transform = train_transform)\n",
        "dataset_val = datasets.ImageFolder(DATA_DIR, transform = val_transform)\n",
        "\n",
        "\n",
        "#Splitting the data into trainning and validation subsets\n",
        "indices = torch.randperm(len(dataset_train))\n",
        "val_size = int(len(dataset_train)*0.2)\n",
        "dataset_train = torch.utils.data.Subset(dataset_train, indices[:-val_size])\n",
        "dataset_val = torch.utils.data.Subset(dataset_val, indices[-val_size:])\n",
        "\n",
        "\n",
        "#plt.imshow(list(dataset[0]).permute(1, 2, 0))\n",
        "for batch in dataset_train:\n",
        "   print(batch)\n",
        "   break"
      ]
    },
    {
      "cell_type": "code",
      "execution_count": null,
      "metadata": {
        "id": "pnuXWlAPTyKs"
      },
      "outputs": [],
      "source": [
        "#Every PyTorch model must inherit from torch.nn.Module\n",
        "#nn.Module has very useful functions for models\n",
        "class CNN(nn.Module):\n",
        "    \n",
        "    # Constructor: (out_1: Output channels of first CNN Layer), (out_2: Output channels of second CNN Layer), (number_of_classes: Number of classes to detect)\n",
        "    def __init__(self, out_1=32, out_2=64, number_of_classes=10):\n",
        "        super().__init__()\n",
        "        #Create first Convolution Layer with input of 1 channel (grayscale) and output of out_1 channels\n",
        "        self.cnn1 = nn.Conv2d(in_channels=3, out_channels=out_1, kernel_size=5, padding=2)\n",
        "\n",
        "        #Initialize the weights of the first Convolution Layer with He initialization for Leaky ReLU activation\n",
        "        nn.init.kaiming_uniform_(self.cnn1.weight, nonlinearity='relu')\n",
        "\n",
        "        #Create Batch Normalization for first Convolution Layer\n",
        "        self.conv1_bn = nn.BatchNorm2d(out_1)\n",
        "\n",
        "        #Create Leaky ReLU activation\n",
        "        self.leaky_relu = nn.LeakyReLU()\n",
        "\n",
        "        #Create Max Pooling for first Convolution Layer\n",
        "        self.maxpool1=nn.MaxPool2d(kernel_size=2)\n",
        "\n",
        "        #Create second Convolution Layer with input of out_1 channels (from first layer) and output of out_2 channels\n",
        "        self.cnn2 = nn.Conv2d(in_channels=out_1, out_channels=out_2, kernel_size=5, padding=2)\n",
        "\n",
        "        #Initialize the weights of the second Convolution Layer with He initialization for Leaky ReLU activation\n",
        "        nn.init.kaiming_uniform_(self.cnn2.weight, nonlinearity='leaky_relu')\n",
        "\n",
        "        #Create Batch Normalization for second Convolution Layer\n",
        "        self.conv2_bn = nn.BatchNorm2d(out_2)\n",
        "\n",
        "        #Create Max Pooling for second Convolution Layer\n",
        "        self.maxpool2=nn.MaxPool2d(kernel_size=2)\n",
        "\n",
        "        #Create a fully connected layer for the CNN. The input shape is the flattened convolution output. If output is (3, 28, 28), input is 28 * 28 * 3.\n",
        "        self.fc1 = nn.Linear(out_2 * int(IMAGE_SIZE/4) * int(IMAGE_SIZE/4), number_of_classes)\n",
        "\n",
        "        # Add Dropout\n",
        "        self.dropout = nn.Dropout(0.25)\n",
        "    \n",
        "    # Prediction (x is input)\n",
        "    # The forward function is automatically called when we create an instance of the class and call it.\n",
        "    def forward(self, x):\n",
        "        x = self.cnn1(x)\n",
        "        x = self.conv1_bn(x)\n",
        "        x = self.leaky_relu(x)\n",
        "        x = self.maxpool1(x)\n",
        "        \n",
        "        x = self.cnn2(x)\n",
        "        x = self.conv2_bn(x)\n",
        "        x = self.leaky_relu(x)\n",
        "        x = self.maxpool2(x)\n",
        "\n",
        "        x = self.dropout(x)\n",
        "        \n",
        "        #Flattening cnn2's output and passing it into a fully connected layer\n",
        "        x = x.view(x.size(0), -1)\n",
        "        x = self.fc1(x)\n",
        "        return x"
      ]
    },
    {
      "cell_type": "code",
      "execution_count": null,
      "metadata": {
        "id": "mjmOr-U0T1hE"
      },
      "outputs": [],
      "source": [
        "#Data Loader for training data\n",
        "train_loader = torch.utils.data.DataLoader(dataset=dataset_train, batch_size=20 )\n",
        "\n",
        "#Data Loader for validation data\n",
        "test_loader = torch.utils.data.DataLoader(dataset=dataset_val, batch_size=20 )"
      ]
    },
    {
      "cell_type": "code",
      "execution_count": null,
      "metadata": {
        "colab": {
          "base_uri": "https://localhost:8080/"
        },
        "id": "BQiULhwiUCFj",
        "outputId": "1d2aca64-ef00-4cc3-d872-ee43242b1289"
      },
      "outputs": [
        {
          "output_type": "stream",
          "name": "stdout",
          "text": [
            "----------------------------------------------------------------\n",
            "        Layer (type)               Output Shape         Param #\n",
            "================================================================\n",
            "            Conv2d-1           [-1, 32, 64, 64]           2,432\n",
            "       BatchNorm2d-2           [-1, 32, 64, 64]              64\n",
            "         LeakyReLU-3           [-1, 32, 64, 64]               0\n",
            "         MaxPool2d-4           [-1, 32, 32, 32]               0\n",
            "            Conv2d-5           [-1, 64, 32, 32]          51,264\n",
            "       BatchNorm2d-6           [-1, 64, 32, 32]             128\n",
            "         LeakyReLU-7           [-1, 64, 32, 32]               0\n",
            "         MaxPool2d-8           [-1, 64, 16, 16]               0\n",
            "           Dropout-9           [-1, 64, 16, 16]               0\n",
            "           Linear-10                   [-1, 10]         163,850\n",
            "================================================================\n",
            "Total params: 217,738\n",
            "Trainable params: 217,738\n",
            "Non-trainable params: 0\n",
            "----------------------------------------------------------------\n",
            "Input size (MB): 0.05\n",
            "Forward/backward pass size (MB): 5.00\n",
            "Params size (MB): 0.83\n",
            "Estimated Total Size (MB): 5.88\n",
            "----------------------------------------------------------------\n"
          ]
        }
      ],
      "source": [
        "import torchsummary as summary\n",
        "model = CNN()\n",
        "\n",
        "summary.summary(model, (3, IMAGE_SIZE, IMAGE_SIZE))"
      ]
    },
    {
      "cell_type": "code",
      "execution_count": null,
      "metadata": {
        "id": "98Iflk_dUGVH"
      },
      "outputs": [],
      "source": [
        "#Creating an Adam optimizer\n",
        "optimizer = torch.optim.Adam(model.parameters(), lr = 0.0025, weight_decay = 1e-4 )\n",
        "\n",
        "#Use Cross Entropy Loss since this is a classification problem\n",
        "criterion = nn.CrossEntropyLoss()\n",
        "\n",
        "# Load model from pth file\n",
        "# model.load_state_dict(torch.load('/content/gdrive/MyDrive/dotcreate_latest.pth'))"
      ]
    },
    {
      "cell_type": "code",
      "execution_count": null,
      "metadata": {
        "colab": {
          "base_uri": "https://localhost:8080/"
        },
        "id": "jgAQGzOlUKmq",
        "outputId": "faa84de6-3163-430e-8063-db0d583d4ee2"
      },
      "outputs": [
        {
          "output_type": "stream",
          "name": "stdout",
          "text": [
            "\n",
            "Epoch no. 0\n"
          ]
        },
        {
          "output_type": "stream",
          "name": "stderr",
          "text": [
            "100%|██████████| 200/200 [02:01<00:00,  1.64it/s]\n"
          ]
        },
        {
          "output_type": "stream",
          "name": "stdout",
          "text": [
            "Training accuracy: 0.33425\n",
            "Validation accuracy: 0.5445445445445446\n",
            "\n",
            "Epoch no. 1\n"
          ]
        },
        {
          "output_type": "stream",
          "name": "stderr",
          "text": [
            "100%|██████████| 200/200 [02:10<00:00,  1.53it/s]\n"
          ]
        },
        {
          "output_type": "stream",
          "name": "stdout",
          "text": [
            "Training accuracy: 0.42525\n",
            "Validation accuracy: 0.5545545545545546\n",
            "\n",
            "Epoch no. 2\n"
          ]
        },
        {
          "output_type": "stream",
          "name": "stderr",
          "text": [
            "100%|██████████| 200/200 [02:03<00:00,  1.62it/s]\n"
          ]
        },
        {
          "output_type": "stream",
          "name": "stdout",
          "text": [
            "Training accuracy: 0.4945\n",
            "Validation accuracy: 0.5075075075075075\n",
            "\n",
            "Epoch no. 3\n"
          ]
        },
        {
          "output_type": "stream",
          "name": "stderr",
          "text": [
            "100%|██████████| 200/200 [02:01<00:00,  1.65it/s]\n"
          ]
        },
        {
          "output_type": "stream",
          "name": "stdout",
          "text": [
            "Training accuracy: 0.546\n",
            "Validation accuracy: 0.5225225225225225\n",
            "\n",
            "Epoch no. 4\n"
          ]
        },
        {
          "output_type": "stream",
          "name": "stderr",
          "text": [
            "100%|██████████| 200/200 [02:04<00:00,  1.60it/s]\n"
          ]
        },
        {
          "output_type": "stream",
          "name": "stdout",
          "text": [
            "Training accuracy: 0.577\n",
            "Validation accuracy: 0.4944944944944945\n",
            "\n",
            "Epoch no. 5\n"
          ]
        },
        {
          "output_type": "stream",
          "name": "stderr",
          "text": [
            "100%|██████████| 200/200 [02:01<00:00,  1.65it/s]\n"
          ]
        },
        {
          "output_type": "stream",
          "name": "stdout",
          "text": [
            "Training accuracy: 0.615\n",
            "Validation accuracy: 0.24224224224224225\n",
            "\n",
            "Epoch no. 6\n"
          ]
        },
        {
          "output_type": "stream",
          "name": "stderr",
          "text": [
            "100%|██████████| 200/200 [02:01<00:00,  1.65it/s]\n"
          ]
        },
        {
          "output_type": "stream",
          "name": "stdout",
          "text": [
            "Training accuracy: 0.63775\n",
            "Validation accuracy: 0.7707707707707707\n",
            "\n",
            "Epoch no. 7\n"
          ]
        },
        {
          "output_type": "stream",
          "name": "stderr",
          "text": [
            "100%|██████████| 200/200 [02:01<00:00,  1.65it/s]\n"
          ]
        },
        {
          "output_type": "stream",
          "name": "stdout",
          "text": [
            "Training accuracy: 0.6385\n",
            "Validation accuracy: 0.8278278278278278\n",
            "\n",
            "Epoch no. 8\n"
          ]
        },
        {
          "output_type": "stream",
          "name": "stderr",
          "text": [
            "100%|██████████| 200/200 [02:00<00:00,  1.66it/s]\n"
          ]
        },
        {
          "output_type": "stream",
          "name": "stdout",
          "text": [
            "Training accuracy: 0.6845\n",
            "Validation accuracy: 0.7287287287287287\n",
            "\n",
            "Epoch no. 9\n"
          ]
        },
        {
          "output_type": "stream",
          "name": "stderr",
          "text": [
            "100%|██████████| 200/200 [02:01<00:00,  1.65it/s]\n"
          ]
        },
        {
          "output_type": "stream",
          "name": "stdout",
          "text": [
            "Training accuracy: 0.69775\n",
            "Validation accuracy: 0.5845845845845846\n",
            "\n",
            "Epoch no. 10\n"
          ]
        },
        {
          "output_type": "stream",
          "name": "stderr",
          "text": [
            "100%|██████████| 200/200 [02:00<00:00,  1.66it/s]\n"
          ]
        },
        {
          "output_type": "stream",
          "name": "stdout",
          "text": [
            "Training accuracy: 0.70075\n",
            "Validation accuracy: 0.6796796796796797\n",
            "\n",
            "Epoch no. 11\n"
          ]
        },
        {
          "output_type": "stream",
          "name": "stderr",
          "text": [
            "100%|██████████| 200/200 [02:04<00:00,  1.60it/s]\n"
          ]
        },
        {
          "output_type": "stream",
          "name": "stdout",
          "text": [
            "Training accuracy: 0.732\n",
            "Validation accuracy: 0.6496496496496497\n",
            "\n",
            "Epoch no. 12\n"
          ]
        },
        {
          "output_type": "stream",
          "name": "stderr",
          "text": [
            "100%|██████████| 200/200 [02:01<00:00,  1.65it/s]\n"
          ]
        },
        {
          "output_type": "stream",
          "name": "stdout",
          "text": [
            "Training accuracy: 0.7475\n",
            "Validation accuracy: 0.6966966966966966\n",
            "\n",
            "Epoch no. 13\n"
          ]
        },
        {
          "output_type": "stream",
          "name": "stderr",
          "text": [
            "100%|██████████| 200/200 [01:59<00:00,  1.67it/s]\n"
          ]
        },
        {
          "output_type": "stream",
          "name": "stdout",
          "text": [
            "Training accuracy: 0.758\n",
            "Validation accuracy: 0.8288288288288288\n",
            "\n",
            "Epoch no. 14\n"
          ]
        },
        {
          "output_type": "stream",
          "name": "stderr",
          "text": [
            "100%|██████████| 200/200 [02:01<00:00,  1.65it/s]\n"
          ]
        },
        {
          "output_type": "stream",
          "name": "stdout",
          "text": [
            "Training accuracy: 0.76575\n",
            "Validation accuracy: 0.7147147147147147\n",
            "\n",
            "Epoch no. 15\n"
          ]
        },
        {
          "output_type": "stream",
          "name": "stderr",
          "text": [
            "100%|██████████| 200/200 [02:02<00:00,  1.63it/s]\n"
          ]
        },
        {
          "output_type": "stream",
          "name": "stdout",
          "text": [
            "Training accuracy: 0.78075\n",
            "Validation accuracy: 0.4824824824824825\n",
            "\n",
            "Epoch no. 16\n"
          ]
        },
        {
          "output_type": "stream",
          "name": "stderr",
          "text": [
            "100%|██████████| 200/200 [02:00<00:00,  1.66it/s]\n"
          ]
        },
        {
          "output_type": "stream",
          "name": "stdout",
          "text": [
            "Training accuracy: 0.79525\n",
            "Validation accuracy: 0.7967967967967968\n",
            "\n",
            "Epoch no. 17\n"
          ]
        },
        {
          "output_type": "stream",
          "name": "stderr",
          "text": [
            "100%|██████████| 200/200 [01:59<00:00,  1.67it/s]\n"
          ]
        },
        {
          "output_type": "stream",
          "name": "stdout",
          "text": [
            "Training accuracy: 0.79025\n",
            "Validation accuracy: 0.8758758758758759\n",
            "\n",
            "Epoch no. 18\n"
          ]
        },
        {
          "output_type": "stream",
          "name": "stderr",
          "text": [
            "100%|██████████| 200/200 [02:04<00:00,  1.61it/s]\n"
          ]
        },
        {
          "output_type": "stream",
          "name": "stdout",
          "text": [
            "Training accuracy: 0.8125\n",
            "Validation accuracy: 0.8108108108108109\n",
            "\n",
            "Epoch no. 19\n"
          ]
        },
        {
          "output_type": "stream",
          "name": "stderr",
          "text": [
            "100%|██████████| 200/200 [02:04<00:00,  1.61it/s]\n"
          ]
        },
        {
          "output_type": "stream",
          "name": "stdout",
          "text": [
            "Training accuracy: 0.81325\n",
            "Validation accuracy: 0.7867867867867868\n",
            "\n",
            "Epoch no. 20\n"
          ]
        },
        {
          "output_type": "stream",
          "name": "stderr",
          "text": [
            "100%|██████████| 200/200 [02:00<00:00,  1.66it/s]\n"
          ]
        },
        {
          "output_type": "stream",
          "name": "stdout",
          "text": [
            "Training accuracy: 0.80675\n",
            "Validation accuracy: 0.7677677677677678\n",
            "\n",
            "Epoch no. 21\n"
          ]
        },
        {
          "output_type": "stream",
          "name": "stderr",
          "text": [
            "100%|██████████| 200/200 [02:01<00:00,  1.64it/s]\n"
          ]
        },
        {
          "output_type": "stream",
          "name": "stdout",
          "text": [
            "Training accuracy: 0.8125\n",
            "Validation accuracy: 0.8818818818818819\n",
            "\n",
            "Epoch no. 22\n"
          ]
        },
        {
          "output_type": "stream",
          "name": "stderr",
          "text": [
            "100%|██████████| 200/200 [02:00<00:00,  1.66it/s]\n"
          ]
        },
        {
          "output_type": "stream",
          "name": "stdout",
          "text": [
            "Training accuracy: 0.812\n",
            "Validation accuracy: 0.8458458458458459\n",
            "\n",
            "Epoch no. 23\n"
          ]
        },
        {
          "output_type": "stream",
          "name": "stderr",
          "text": [
            "100%|██████████| 200/200 [02:01<00:00,  1.65it/s]\n"
          ]
        },
        {
          "output_type": "stream",
          "name": "stdout",
          "text": [
            "Training accuracy: 0.82975\n",
            "Validation accuracy: 0.8928928928928929\n",
            "\n",
            "Epoch no. 24\n"
          ]
        },
        {
          "output_type": "stream",
          "name": "stderr",
          "text": [
            "100%|██████████| 200/200 [02:00<00:00,  1.66it/s]\n"
          ]
        },
        {
          "output_type": "stream",
          "name": "stdout",
          "text": [
            "Training accuracy: 0.852\n",
            "Validation accuracy: 0.8958958958958959\n",
            "\n",
            "Epoch no. 25\n"
          ]
        },
        {
          "output_type": "stream",
          "name": "stderr",
          "text": [
            "100%|██████████| 200/200 [02:00<00:00,  1.67it/s]\n"
          ]
        },
        {
          "output_type": "stream",
          "name": "stdout",
          "text": [
            "Training accuracy: 0.84475\n",
            "Validation accuracy: 0.8548548548548549\n",
            "\n",
            "Epoch no. 26\n"
          ]
        },
        {
          "output_type": "stream",
          "name": "stderr",
          "text": [
            "100%|██████████| 200/200 [02:00<00:00,  1.66it/s]\n"
          ]
        },
        {
          "output_type": "stream",
          "name": "stdout",
          "text": [
            "Training accuracy: 0.84875\n",
            "Validation accuracy: 0.8728728728728729\n",
            "\n",
            "Epoch no. 27\n"
          ]
        },
        {
          "output_type": "stream",
          "name": "stderr",
          "text": [
            "100%|██████████| 200/200 [01:59<00:00,  1.67it/s]\n"
          ]
        },
        {
          "output_type": "stream",
          "name": "stdout",
          "text": [
            "Training accuracy: 0.83825\n",
            "Validation accuracy: 0.8408408408408409\n",
            "\n",
            "Epoch no. 28\n"
          ]
        },
        {
          "output_type": "stream",
          "name": "stderr",
          "text": [
            "100%|██████████| 200/200 [02:00<00:00,  1.66it/s]\n"
          ]
        },
        {
          "output_type": "stream",
          "name": "stdout",
          "text": [
            "Training accuracy: 0.8515\n",
            "Validation accuracy: 0.8678678678678678\n",
            "\n",
            "Epoch no. 29\n"
          ]
        },
        {
          "output_type": "stream",
          "name": "stderr",
          "text": [
            "100%|██████████| 200/200 [02:00<00:00,  1.66it/s]\n"
          ]
        },
        {
          "output_type": "stream",
          "name": "stdout",
          "text": [
            "Training accuracy: 0.8485\n",
            "Validation accuracy: 0.8188188188188188\n",
            "\n",
            "Epoch no. 30\n"
          ]
        },
        {
          "output_type": "stream",
          "name": "stderr",
          "text": [
            "100%|██████████| 200/200 [01:59<00:00,  1.68it/s]\n"
          ]
        },
        {
          "output_type": "stream",
          "name": "stdout",
          "text": [
            "Training accuracy: 0.85925\n",
            "Validation accuracy: 0.8818818818818819\n",
            "\n",
            "Epoch no. 31\n"
          ]
        },
        {
          "output_type": "stream",
          "name": "stderr",
          "text": [
            "100%|██████████| 200/200 [02:00<00:00,  1.66it/s]\n"
          ]
        },
        {
          "output_type": "stream",
          "name": "stdout",
          "text": [
            "Training accuracy: 0.8695\n",
            "Validation accuracy: 0.9309309309309309\n",
            "\n",
            "Epoch no. 32\n"
          ]
        },
        {
          "output_type": "stream",
          "name": "stderr",
          "text": [
            "100%|██████████| 200/200 [02:00<00:00,  1.66it/s]\n"
          ]
        },
        {
          "output_type": "stream",
          "name": "stdout",
          "text": [
            "Training accuracy: 0.87275\n",
            "Validation accuracy: 0.7687687687687688\n",
            "\n",
            "Epoch no. 33\n"
          ]
        },
        {
          "output_type": "stream",
          "name": "stderr",
          "text": [
            "100%|██████████| 200/200 [02:00<00:00,  1.66it/s]\n"
          ]
        },
        {
          "output_type": "stream",
          "name": "stdout",
          "text": [
            "Training accuracy: 0.8775\n",
            "Validation accuracy: 0.943943943943944\n",
            "\n",
            "Epoch no. 34\n"
          ]
        },
        {
          "output_type": "stream",
          "name": "stderr",
          "text": [
            "100%|██████████| 200/200 [01:59<00:00,  1.67it/s]\n"
          ]
        },
        {
          "output_type": "stream",
          "name": "stdout",
          "text": [
            "Training accuracy: 0.8875\n",
            "Validation accuracy: 0.9039039039039038\n",
            "\n",
            "Epoch no. 35\n"
          ]
        },
        {
          "output_type": "stream",
          "name": "stderr",
          "text": [
            "100%|██████████| 200/200 [01:59<00:00,  1.67it/s]\n"
          ]
        },
        {
          "output_type": "stream",
          "name": "stdout",
          "text": [
            "Training accuracy: 0.87425\n",
            "Validation accuracy: 0.7767767767767768\n",
            "\n",
            "Epoch no. 36\n"
          ]
        },
        {
          "output_type": "stream",
          "name": "stderr",
          "text": [
            "100%|██████████| 200/200 [02:00<00:00,  1.66it/s]\n"
          ]
        },
        {
          "output_type": "stream",
          "name": "stdout",
          "text": [
            "Training accuracy: 0.883\n",
            "Validation accuracy: 0.913913913913914\n",
            "\n",
            "Epoch no. 37\n"
          ]
        },
        {
          "output_type": "stream",
          "name": "stderr",
          "text": [
            "100%|██████████| 200/200 [01:59<00:00,  1.68it/s]\n"
          ]
        },
        {
          "output_type": "stream",
          "name": "stdout",
          "text": [
            "Training accuracy: 0.87825\n",
            "Validation accuracy: 0.7037037037037037\n",
            "\n",
            "Epoch no. 38\n"
          ]
        },
        {
          "output_type": "stream",
          "name": "stderr",
          "text": [
            "100%|██████████| 200/200 [02:00<00:00,  1.65it/s]\n"
          ]
        },
        {
          "output_type": "stream",
          "name": "stdout",
          "text": [
            "Training accuracy: 0.876\n",
            "Validation accuracy: 0.8688688688688688\n",
            "\n",
            "Epoch no. 39\n"
          ]
        },
        {
          "output_type": "stream",
          "name": "stderr",
          "text": [
            "100%|██████████| 200/200 [02:00<00:00,  1.66it/s]\n"
          ]
        },
        {
          "output_type": "stream",
          "name": "stdout",
          "text": [
            "Training accuracy: 0.87075\n",
            "Validation accuracy: 0.8468468468468469\n"
          ]
        }
      ],
      "source": [
        "# To show a progress bar while training\n",
        "from tqdm import tqdm\n",
        "\n",
        "training_acc_list=[]\n",
        "val_acc_list=[]\n",
        "N_test=len(dataset_val)\n",
        "N_train = len(dataset_train)\n",
        "n_epochs=40\n",
        "\n",
        "for epoch in range(n_epochs):\n",
        "    #Count how many predictions were correct\n",
        "    correct = 0\n",
        "\n",
        "    print()\n",
        "    print(f\"Epoch no. {epoch}\")\n",
        "    #Put model into training mode (uses Dropout if there are Dropout layers)\n",
        "    model.train()\n",
        "    #Loop over each sample in the dataloaders.\n",
        "    for x, y in tqdm(train_loader):\n",
        "        #Zero the optimizer gradients (PyTorch requires this.)\n",
        "        optimizer.zero_grad()\n",
        "        #Make a prediction\n",
        "        y_hat = model(x)\n",
        "        #Calculate the loss with the criterion\n",
        "        loss = criterion(y_hat, y)\n",
        "        #Initiate backpropagation/calculate derivatives of parameters with respect to the loss.\n",
        "        loss.backward()\n",
        "        #Update parameters\n",
        "        optimizer.step()\n",
        "\n",
        "        \n",
        "        \n",
        "        #Update correct counter\n",
        "        #Grab the index of the AI's highest probability guess (Each output of model(x) is a tensor of probabilities) \n",
        "        correct += (torch.argmax(y_hat, 1) == y).sum().item()\n",
        "        \n",
        "    #Calculate accuracy\n",
        "    accuracy = correct / N_train\n",
        "    print(\"Training accuracy: \" + str(accuracy))\n",
        "    training_acc_list.append(accuracy)\n",
        "\n",
        "    correct=0\n",
        "    \n",
        "    #Put model into validation mode (turns off Dropout if there are Dropout layers)\n",
        "    model.eval()\n",
        "    for x_test, y_test in test_loader:\n",
        "        #Make a prediction\n",
        "        z = model(x_test)\n",
        "        #Grab the index of the AI's highest probability guess (Each output of model(x) is a tensor of probabilities) \n",
        "        y_hat = torch.argmax(z, 1)\n",
        "        #Update correct counter if the prediction was correct\n",
        "        correct += (y_hat == y_test).sum().item()\n",
        "    accuracy = correct / N_test\n",
        "    print(\"Validation accuracy: \" + str(accuracy))\n",
        "    val_acc_list.append(accuracy)"
      ]
    },
    {
      "cell_type": "code",
      "execution_count": null,
      "metadata": {
        "id": "FZ32fI2IVT4g",
        "colab": {
          "base_uri": "https://localhost:8080/",
          "height": 283
        },
        "outputId": "bf1a816c-cb24-4103-fc1e-3edd3e859a1e"
      },
      "outputs": [
        {
          "output_type": "execute_result",
          "data": {
            "text/plain": [
              "[<matplotlib.lines.Line2D at 0x7f8b0d207970>]"
            ]
          },
          "metadata": {},
          "execution_count": 28
        },
        {
          "output_type": "display_data",
          "data": {
            "text/plain": [
              "<Figure size 432x288 with 1 Axes>"
            ],
            "image/png": "[encoded data removed]"
          },
          "metadata": {
            "needs_background": "light"
          }
        }
      ],
      "source": [
        "plt.plot(training_acc_list)"
      ]
    },
    {
      "cell_type": "code",
      "execution_count": null,
      "metadata": {
        "id": "FC07boweVV3X",
        "colab": {
          "base_uri": "https://localhost:8080/",
          "height": 283
        },
        "outputId": "536232b7-f37f-478c-afd1-2feda271efaf"
      },
      "outputs": [
        {
          "output_type": "execute_result",
          "data": {
            "text/plain": [
              "[<matplotlib.lines.Line2D at 0x7f8b0cd54580>]"
            ]
          },
          "metadata": {},
          "execution_count": 29
        },
        {
          "output_type": "display_data",
          "data": {
            "text/plain": [
              "<Figure size 432x288 with 1 Axes>"
            ],
            "image/png": "[encoded data removed]"
          },
          "metadata": {
            "needs_background": "light"
          }
        }
      ],
      "source": [
        "plt.plot(val_acc_list)"
      ]
    },
    {
      "cell_type": "code",
      "execution_count": null,
      "metadata": {
        "id": "62RgmSPSVcPN",
        "colab": {
          "base_uri": "https://localhost:8080/"
        },
        "outputId": "9d77bf36-c9e8-402a-98b7-5ce5223dd006"
      },
      "outputs": [
        {
          "output_type": "execute_result",
          "data": {
            "text/plain": [
              "<All keys matched successfully>"
            ]
          },
          "metadata": {},
          "execution_count": 14
        }
      ],
      "source": [
        "#We can save our model's weights by running the following:\n",
        "#torch.save(model.state_dict(), \"dotcreate.pth\")\n",
        "#We can save our model's weights by running the following:\n",
        "# torch.save(model.state_dict(), \"/content/gdrive/MyDrive/dotcreate_latest.pth\")\n",
        "#torch.save(model.state_dict(), \"/content/gdrive/MyDrive/data/Dotcreate/dotcreate_latest.pth\")\n",
        "#We can load the model's weights by running the following:\n",
        "model.load_state_dict(torch.load(\"/content/gdrive/MyDrive/data/Dotcreate/dotcreate_latest.pth\"))"
      ]
    },
    {
      "cell_type": "code",
      "execution_count": null,
      "metadata": {
        "id": "98teIxL_VuTO",
        "colab": {
          "base_uri": "https://localhost:8080/",
          "height": 372
        },
        "outputId": "4dd2a4d5-7e48-44a3-b57c-df1411059f1b"
      },
      "outputs": [
        {
          "output_type": "stream",
          "name": "stderr",
          "text": [
            "WARNING:matplotlib.image:Clipping input data to the valid range for imshow with RGB data ([0..1] for floats or [0..255] for integers).\n"
          ]
        },
        {
          "output_type": "stream",
          "name": "stdout",
          "text": [
            "AI's Prediction: 30\n",
            "Confidence :  93.4062 % for 30\n",
            "Confidence :  6.5763 % for 40\n",
            "Confidence :  0.0159 % for 20\n"
          ]
        },
        {
          "output_type": "display_data",
          "data": {
            "text/plain": [
              "<Figure size 432x288 with 1 Axes>"
            ],
            "image/png": "[encoded data removed]"
          },
          "metadata": {
            "needs_background": "light"
          }
        }
      ],
      "source": [
        "#Random val image to test the trained model\n",
        "\n",
        "import numpy as np\n",
        "model.eval()\n",
        "randomIndex = random.randint(0, len(dataset_val) -1)\n",
        "#print(randomIndex)\n",
        "test = dataset_val[randomIndex]\n",
        "#print(\"test:\", test)\n",
        "\n",
        "\n",
        "def show_data(data_sample, size):\n",
        "  temp = data_sample[0].permute(1, 2, 0)\n",
        "  plt.imshow(temp.numpy())\n",
        "  plt.title(f\"Real Label = {labels[data_sample[1]]}\")\n",
        "\n",
        "show_data(test, IMAGE_SIZE)\n",
        "# Turn image of (C, H, W) into (B, C, H, W) to pass into the model\n",
        "# Take the index of the highest probability from the output tensor and grab the corresponding classification\n",
        "print(\"AI's Prediction: \" + labels[torch.argmax(model(test[0].view(-1, 3, IMAGE_SIZE, IMAGE_SIZE)), 1)])\n",
        "\n",
        "# Rescaling the output tensor so that all the values lie in range [0,1] and sum to 1.\n",
        "class_prob = torch.softmax(model(test[0].view(-1, 3, IMAGE_SIZE, IMAGE_SIZE)), 1)\n",
        "\n",
        "# Getting the highest probability from the rescaled output tensor\n",
        "confidence, topclassindex = torch.max(class_prob, dim=1)\n",
        "\n",
        "k = 3 # Number of confidence ratings we want\n",
        "\n",
        "# Getting 'k' largest elements and their indexes from our output tensor\n",
        "values, indexes = torch.topk(class_prob, k)\n",
        "\n",
        "# Converting these tensors to numpy arrays to use them as indexes\n",
        "n_values = values.detach().numpy()\n",
        "n_indexes = indexes.detach().numpy()\n",
        "\n",
        "# Printing confidence ratings\n",
        "for i in range(k):\n",
        "  print(\"Confidence : \", round(n_values[0][i]*100, 4), '%', \"for\", labels[int(n_indexes[0][i])])"
      ]
    },
    {
      "cell_type": "code",
      "source": [
        "# Testing a single image with the model\n",
        "from PIL import Image\n",
        "import torchvision.transforms.functional as TF\n",
        "\n",
        "# Loading the image and converting it to RGB\n",
        "image = Image.open(\"/content/gdrive/MyDrive/data/Dotcreate/IMG/IMG_3608.jpg\")\n",
        "image = image.convert('RGB')\n",
        "\n",
        "# Applying transforms\n",
        "transform = transforms.Compose([\n",
        "    transforms.Resize((IMAGE_SIZE, IMAGE_SIZE)),\n",
        "    transforms.ToTensor()\n",
        "    # transforms.Normalize(mean, std)\n",
        "])\n",
        "\n",
        "# Adding an additional dimension to our tensor\n",
        "image = transform(image).unsqueeze(0)\n",
        "\n",
        "# Initiating and loading the model\n",
        "model = CNN()\n",
        "#model.load_state_dict(torch.load(\"pass\"))\n",
        "# Put model into validation mode (turns off Dropout if there are Dropout layers)\n",
        "model.eval()\n",
        "\n",
        "# Passing our image to the model\n",
        "with torch.no_grad():\n",
        "  output = model(image)\n",
        "\n",
        "# Prediction\n",
        "prediction = output.argmax().item()\n",
        "print(\"AI's prediction : \", labels[prediction])\n",
        "# print(\"output : \", output)\n",
        "\n",
        "def show_data_new(data_sample, size):\n",
        "  temp = data_sample[0].permute(1, 2, 0)\n",
        "  plt.imshow(temp.numpy())\n",
        "show_data_new(image, IMAGE_SIZE)\n",
        "\n",
        "\n",
        "# !!!!!!!!!!!!!!!!!!!!!!!!!!! We have to print our confidence ratings !!!!!!!!!!!!!!!!!!!!!!!!!!!!!!!11\n",
        "\n",
        "# Rescaling our output tensor with softmax\n",
        "# output_prob = torch.softmax(model(output.view(-1, 3, IMAGE_SIZE, IMAGE_SIZE)), 1)\n",
        "\n",
        "# # Getting the highest probability from the output tensor\n",
        "# confidence, topclassindex = torch.max(output_prob, dim=1)\n",
        "\n",
        "k = 3 # Number of confidence ratings we want\n",
        "\n",
        "# Getting 'k' largest elements and their indexes from our output tensor\n",
        "values, indexes = torch.topk(output, k)\n",
        "\n",
        "# Converting these tensors to numpy arrays to use them as indexes\n",
        "n_values = values.detach().numpy()\n",
        "n_indexes = indexes.detach().numpy()\n",
        "\n",
        "# Printing confidence ratings\n",
        "for i in range(k):\n",
        "  print(\"Confidence : \", round(n_values[0][i]*100, 4), '%', \"for\", labels[int(n_indexes[0][i])])"
      ],
      "metadata": {
        "colab": {
          "base_uri": "https://localhost:8080/",
          "height": 341
        },
        "id": "cujPhD-hFx4L",
        "outputId": "3708ed25-9c4d-405f-f399-0bf28172cffc"
      },
      "execution_count": null,
      "outputs": [
        {
          "output_type": "stream",
          "name": "stdout",
          "text": [
            "AI's prediction :  100\n",
            "Confidence :  37.0565 % for 100\n",
            "Confidence :  30.4407 % for 5\n",
            "Confidence :  27.1457 % for 10\n"
          ]
        },
        {
          "output_type": "display_data",
          "data": {
            "text/plain": [
              "<Figure size 432x288 with 1 Axes>"
            ],
            "image/png": "[encoded data removed]"
          },
          "metadata": {
            "needs_background": "light"
          }
        }
      ]
    }
  ],
  "metadata": {
    "accelerator": "TPU",
    "colab": {
      "provenance": [],
      "toc_visible": true,
      "include_colab_link": true
    },
    "gpuClass": "standard",
    "kernelspec": {
      "display_name": "Python 3",
      "name": "python3"
    },
    "language_info": {
      "name": "python"
    }
  },
  "nbformat": 4,
  "nbformat_minor": 0
}